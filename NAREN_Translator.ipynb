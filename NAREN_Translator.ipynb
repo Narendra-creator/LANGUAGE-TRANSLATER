{
  "nbformat": 4,
  "nbformat_minor": 0,
  "metadata": {
    "colab": {
      "provenance": [],
      "include_colab_link": true
    },
    "kernelspec": {
      "name": "python3",
      "display_name": "Python 3"
    },
    "language_info": {
      "name": "python"
    }
  },
  "cells": [
    {
      "cell_type": "markdown",
      "metadata": {
        "id": "view-in-github",
        "colab_type": "text"
      },
      "source": [
        "<a href=\"https://colab.research.google.com/github/Narendra-creator/LANGUAGE-TRANSLATER/blob/main/NAREN_Translator.ipynb\" target=\"_parent\"><img src=\"https://colab.research.google.com/assets/colab-badge.svg\" alt=\"Open In Colab\"/></a>"
      ]
    },
    {
      "cell_type": "code",
      "source": [
        "#This project uses the googletrans library to translate text between languages.\n",
        "#The function translate_text takes input text, source language, and target language, then returns the translated text."
      ],
      "metadata": {
        "id": "J4s-x9bFJVTM"
      },
      "execution_count": null,
      "outputs": []
    },
    {
      "cell_type": "code",
      "execution_count": null,
      "metadata": {
        "colab": {
          "base_uri": "https://localhost:8080/"
        },
        "id": "JfXzmzNarAO5",
        "outputId": "70581546-d968-4e04-c34f-ce1541a5ae98"
      },
      "outputs": [
        {
          "output_type": "stream",
          "name": "stdout",
          "text": [
            "Collecting googletrans==4.0.0-rc1\n",
            "  Downloading googletrans-4.0.0rc1.tar.gz (20 kB)\n",
            "  Preparing metadata (setup.py) ... \u001b[?25l\u001b[?25hdone\n",
            "Collecting httpx==0.13.3 (from googletrans==4.0.0-rc1)\n",
            "  Downloading httpx-0.13.3-py3-none-any.whl.metadata (25 kB)\n",
            "Requirement already satisfied: certifi in /usr/local/lib/python3.11/dist-packages (from httpx==0.13.3->googletrans==4.0.0-rc1) (2024.12.14)\n",
            "Collecting hstspreload (from httpx==0.13.3->googletrans==4.0.0-rc1)\n",
            "  Downloading hstspreload-2025.1.1-py3-none-any.whl.metadata (2.1 kB)\n",
            "Requirement already satisfied: sniffio in /usr/local/lib/python3.11/dist-packages (from httpx==0.13.3->googletrans==4.0.0-rc1) (1.3.1)\n",
            "Collecting chardet==3.* (from httpx==0.13.3->googletrans==4.0.0-rc1)\n",
            "  Downloading chardet-3.0.4-py2.py3-none-any.whl.metadata (3.2 kB)\n",
            "Collecting idna==2.* (from httpx==0.13.3->googletrans==4.0.0-rc1)\n",
            "  Downloading idna-2.10-py2.py3-none-any.whl.metadata (9.1 kB)\n",
            "Collecting rfc3986<2,>=1.3 (from httpx==0.13.3->googletrans==4.0.0-rc1)\n",
            "  Downloading rfc3986-1.5.0-py2.py3-none-any.whl.metadata (6.5 kB)\n",
            "Collecting httpcore==0.9.* (from httpx==0.13.3->googletrans==4.0.0-rc1)\n",
            "  Downloading httpcore-0.9.1-py3-none-any.whl.metadata (4.6 kB)\n",
            "Collecting h11<0.10,>=0.8 (from httpcore==0.9.*->httpx==0.13.3->googletrans==4.0.0-rc1)\n",
            "  Downloading h11-0.9.0-py2.py3-none-any.whl.metadata (8.1 kB)\n",
            "Collecting h2==3.* (from httpcore==0.9.*->httpx==0.13.3->googletrans==4.0.0-rc1)\n",
            "  Downloading h2-3.2.0-py2.py3-none-any.whl.metadata (32 kB)\n",
            "Collecting hyperframe<6,>=5.2.0 (from h2==3.*->httpcore==0.9.*->httpx==0.13.3->googletrans==4.0.0-rc1)\n",
            "  Downloading hyperframe-5.2.0-py2.py3-none-any.whl.metadata (7.2 kB)\n",
            "Collecting hpack<4,>=3.0 (from h2==3.*->httpcore==0.9.*->httpx==0.13.3->googletrans==4.0.0-rc1)\n",
            "  Downloading hpack-3.0.0-py2.py3-none-any.whl.metadata (7.0 kB)\n",
            "Downloading httpx-0.13.3-py3-none-any.whl (55 kB)\n",
            "\u001b[2K   \u001b[90m━━━━━━━━━━━━━━━━━━━━━━━━━━━━━━━━━━━━━━━━\u001b[0m \u001b[32m55.1/55.1 kB\u001b[0m \u001b[31m2.8 MB/s\u001b[0m eta \u001b[36m0:00:00\u001b[0m\n",
            "\u001b[?25hDownloading chardet-3.0.4-py2.py3-none-any.whl (133 kB)\n",
            "\u001b[2K   \u001b[90m━━━━━━━━━━━━━━━━━━━━━━━━━━━━━━━━━━━━━━━━\u001b[0m \u001b[32m133.4/133.4 kB\u001b[0m \u001b[31m6.4 MB/s\u001b[0m eta \u001b[36m0:00:00\u001b[0m\n",
            "\u001b[?25hDownloading httpcore-0.9.1-py3-none-any.whl (42 kB)\n",
            "\u001b[2K   \u001b[90m━━━━━━━━━━━━━━━━━━━━━━━━━━━━━━━━━━━━━━━━\u001b[0m \u001b[32m42.6/42.6 kB\u001b[0m \u001b[31m2.7 MB/s\u001b[0m eta \u001b[36m0:00:00\u001b[0m\n",
            "\u001b[?25hDownloading idna-2.10-py2.py3-none-any.whl (58 kB)\n",
            "\u001b[2K   \u001b[90m━━━━━━━━━━━━━━━━━━━━━━━━━━━━━━━━━━━━━━━━\u001b[0m \u001b[32m58.8/58.8 kB\u001b[0m \u001b[31m4.0 MB/s\u001b[0m eta \u001b[36m0:00:00\u001b[0m\n",
            "\u001b[?25hDownloading h2-3.2.0-py2.py3-none-any.whl (65 kB)\n",
            "\u001b[2K   \u001b[90m━━━━━━━━━━━━━━━━━━━━━━━━━━━━━━━━━━━━━━━━\u001b[0m \u001b[32m65.0/65.0 kB\u001b[0m \u001b[31m4.3 MB/s\u001b[0m eta \u001b[36m0:00:00\u001b[0m\n",
            "\u001b[?25hDownloading rfc3986-1.5.0-py2.py3-none-any.whl (31 kB)\n",
            "Downloading hstspreload-2025.1.1-py3-none-any.whl (1.3 MB)\n",
            "\u001b[2K   \u001b[90m━━━━━━━━━━━━━━━━━━━━━━━━━━━━━━━━━━━━━━━━\u001b[0m \u001b[32m1.3/1.3 MB\u001b[0m \u001b[31m29.8 MB/s\u001b[0m eta \u001b[36m0:00:00\u001b[0m\n",
            "\u001b[?25hDownloading h11-0.9.0-py2.py3-none-any.whl (53 kB)\n",
            "\u001b[2K   \u001b[90m━━━━━━━━━━━━━━━━━━━━━━━━━━━━━━━━━━━━━━━━\u001b[0m \u001b[32m53.6/53.6 kB\u001b[0m \u001b[31m3.8 MB/s\u001b[0m eta \u001b[36m0:00:00\u001b[0m\n",
            "\u001b[?25hDownloading hpack-3.0.0-py2.py3-none-any.whl (38 kB)\n",
            "Downloading hyperframe-5.2.0-py2.py3-none-any.whl (12 kB)\n",
            "Building wheels for collected packages: googletrans\n",
            "  Building wheel for googletrans (setup.py) ... \u001b[?25l\u001b[?25hdone\n",
            "  Created wheel for googletrans: filename=googletrans-4.0.0rc1-py3-none-any.whl size=17397 sha256=b730a03a62980ace074e4ee50008cca0d985534d9e36ef903021be92a84c851b\n",
            "  Stored in directory: /root/.cache/pip/wheels/39/17/6f/66a045ea3d168826074691b4b787b8f324d3f646d755443fda\n",
            "Successfully built googletrans\n",
            "Installing collected packages: rfc3986, hyperframe, hpack, h11, chardet, idna, hstspreload, h2, httpcore, httpx, googletrans\n",
            "  Attempting uninstall: h11\n",
            "    Found existing installation: h11 0.14.0\n",
            "    Uninstalling h11-0.14.0:\n",
            "      Successfully uninstalled h11-0.14.0\n",
            "  Attempting uninstall: chardet\n",
            "    Found existing installation: chardet 5.2.0\n",
            "    Uninstalling chardet-5.2.0:\n",
            "      Successfully uninstalled chardet-5.2.0\n",
            "  Attempting uninstall: idna\n",
            "    Found existing installation: idna 3.10\n",
            "    Uninstalling idna-3.10:\n",
            "      Successfully uninstalled idna-3.10\n",
            "  Attempting uninstall: httpcore\n",
            "    Found existing installation: httpcore 1.0.7\n",
            "    Uninstalling httpcore-1.0.7:\n",
            "      Successfully uninstalled httpcore-1.0.7\n",
            "  Attempting uninstall: httpx\n",
            "    Found existing installation: httpx 0.28.1\n",
            "    Uninstalling httpx-0.28.1:\n",
            "      Successfully uninstalled httpx-0.28.1\n",
            "\u001b[31mERROR: pip's dependency resolver does not currently take into account all the packages that are installed. This behaviour is the source of the following dependency conflicts.\n",
            "openai 1.59.9 requires httpx<1,>=0.23.0, but you have httpx 0.13.3 which is incompatible.\n",
            "langsmith 0.3.0 requires httpx<1,>=0.23.0, but you have httpx 0.13.3 which is incompatible.\u001b[0m\u001b[31m\n",
            "\u001b[0mSuccessfully installed chardet-3.0.4 googletrans-4.0.0rc1 h11-0.9.0 h2-3.2.0 hpack-3.0.0 hstspreload-2025.1.1 httpcore-0.9.1 httpx-0.13.3 hyperframe-5.2.0 idna-2.10 rfc3986-1.5.0\n"
          ]
        }
      ],
      "source": [
        "pip install googletrans==4.0.0-rc1"
      ]
    },
    {
      "cell_type": "code",
      "source": [
        "from googletrans import Translator\n",
        "\n",
        "def translate_text(text, src_language, dest_language):\n",
        "    translator = Translator()\n",
        "\n",
        "    # Translate the text from source to destination language\n",
        "    translation = translator.translate(text, src=src_language, dest=dest_language)\n",
        "\n",
        "    return translation.text\n",
        "\n",
        "# Example usage\n",
        "if __name__ == \"__main__\":\n",
        "    source_text = \"Water makes up around 60% of the human body. \"\n",
        "    source_language = \"en\"  # English\n",
        "    destination_language = \"tamil\"  # Tamil\n",
        "\n",
        "    translated_text = translate_text(source_text, source_language, destination_language)\n",
        "    print(f\"Original Text: {source_text}\")\n",
        "    print(f\"Translated Text: {translated_text}\")"
      ],
      "metadata": {
        "colab": {
          "base_uri": "https://localhost:8080/"
        },
        "id": "z0dzZCmiri1e",
        "outputId": "9db68e3a-6768-4adf-8b8c-b71b51c86923"
      },
      "execution_count": null,
      "outputs": [
        {
          "output_type": "stream",
          "name": "stdout",
          "text": [
            "Original Text: Water makes up around 60% of the human body. \n",
            "Translated Text: நீர் மனித உடலில் சுமார் 60% ஆகும்.\n"
          ]
        }
      ]
    },
    {
      "cell_type": "code",
      "source": [
        "from googletrans import Translator\n",
        "\n",
        "def translate_text(text, src_language, dest_language):\n",
        "    translator = Translator()\n",
        "\n",
        "    # Translate the text from source to destination language\n",
        "    translation = translator.translate(text, src=src_language, dest=dest_language)\n",
        "\n",
        "    return translation.text\n",
        "\n",
        "# Example usage\n",
        "if __name__ == \"__main__\":\n",
        "    source_text = \"Water makes up around 60% of the human body. Staying hydrated is key for our organs, muscles, and even our brain to function properly!?\"\n",
        "    source_language = \"en\"  # English\n",
        "    destination_language = \"malayalam\"  # Spanish\n",
        "\n",
        "    translated_text = translate_text(source_text, source_language, destination_language)\n",
        "    print(f\"Original Text: {source_text}\")\n",
        "    print(f\"Translated Text: {translated_text}\")"
      ],
      "metadata": {
        "colab": {
          "base_uri": "https://localhost:8080/"
        },
        "id": "r1VW-Od7GtW7",
        "outputId": "11fa70ca-d897-45e2-9db2-ef7240d8f959"
      },
      "execution_count": null,
      "outputs": [
        {
          "output_type": "stream",
          "name": "stdout",
          "text": [
            "Original Text: Water makes up around 60% of the human body. Staying hydrated is key for our organs, muscles, and even our brain to function properly!?\n",
            "Translated Text: മനുഷ്യശരീരത്തിന്റെ 60% വെള്ളം ഉണ്ടാക്കുന്നു.ശരിയായി പ്രവർത്തിക്കുന്നത് ശരിയായി പ്രവർത്തിക്കുന്നത് നമ്മുടെ അവയവങ്ങൾ, പേശികൾ, മസ്തിഷ്കം എന്നിവയുടെ പ്രധാന കാര്യം ജലാംശം തുടരുകയാണ് !?\n"
          ]
        }
      ]
    },
    {
      "cell_type": "code",
      "source": [
        "from googletrans import Translator\n",
        "\n",
        "def translate_text(text, src_language, dest_language):\n",
        "    translator = Translator()\n",
        "\n",
        "    # Translate the text from source to destination language\n",
        "    translation = translator.translate(text, src=src_language, dest=dest_language)\n",
        "\n",
        "    return translation.text\n",
        "\n",
        "# Example usage\n",
        "if __name__ == \"__main__\":\n",
        "    source_text = \"Water makes up around 60% of the human body. Staying hydrated is key for our organs, muscles, and even our brain to function properly!?\"\n",
        "    source_language = \"en\"  # English\n",
        "    destination_language = \"arabic\"  # Spanish\n",
        "\n",
        "    translated_text = translate_text(source_text, source_language, destination_language)\n",
        "    print(f\"Original Text: {source_text}\")\n",
        "    print(f\"Translated Text: {translated_text}\")"
      ],
      "metadata": {
        "colab": {
          "base_uri": "https://localhost:8080/"
        },
        "id": "irhqgaExG38b",
        "outputId": "e85750f5-e37c-4d24-e5d0-788055362cb0"
      },
      "execution_count": null,
      "outputs": [
        {
          "output_type": "stream",
          "name": "stdout",
          "text": [
            "Original Text: Water makes up around 60% of the human body. Staying hydrated is key for our organs, muscles, and even our brain to function properly!?\n",
            "Translated Text: الماء يشكل حوالي 60 ٪ من جسم الإنسان.الحفاظ على رطوبة هو مفتاح الأعضاء لدينا والعضلات وحتى دماغنا للعمل بشكل صحيح!؟\n"
          ]
        }
      ]
    },
    {
      "cell_type": "code",
      "source": [
        "from googletrans import Translator\n",
        "\n",
        "def translate_text(text, src_language, dest_language):\n",
        "    translator = Translator()\n",
        "\n",
        "    # Translate the text from source to destination language\n",
        "    translation = translator.translate(text, src=src_language, dest=dest_language)\n",
        "\n",
        "    return translation.text\n",
        "\n",
        "# Example usage\n",
        "if __name__ == \"__main__\":\n",
        "    source_text = \"Water makes up around 60% of the human body. Staying hydrated is key for our organs, muscles, and even our brain to function properly!?\"\n",
        "    source_language = \"en\"  # English\n",
        "    destination_language = \"hindi\"  # Spanish\n",
        "\n",
        "    translated_text = translate_text(source_text, source_language, destination_language)\n",
        "    print(f\"Original Text: {source_text}\")\n",
        "    print(f\"Translated Text: {translated_text}\")"
      ],
      "metadata": {
        "colab": {
          "base_uri": "https://localhost:8080/"
        },
        "id": "0K_A5PNUG9Vy",
        "outputId": "f499e048-943d-4376-854e-c57664c28b39"
      },
      "execution_count": null,
      "outputs": [
        {
          "output_type": "stream",
          "name": "stdout",
          "text": [
            "Original Text: Water makes up around 60% of the human body. Staying hydrated is key for our organs, muscles, and even our brain to function properly!?\n",
            "Translated Text: पानी लगभग 60% मानव शरीर बनाता है।हाइड्रेटेड रहना हमारे अंगों, मांसपेशियों और यहां तक ​​कि हमारे मस्तिष्क के लिए ठीक से काम करने के लिए महत्वपूर्ण है!?\n"
          ]
        }
      ]
    },
    {
      "cell_type": "code",
      "source": [
        "from googletrans import Translator\n",
        "\n",
        "def translate_text(text, src_language, dest_language):\n",
        "    translator = Translator()\n",
        "\n",
        "    # Translate the text from source to destination language\n",
        "    translation = translator.translate(text, src=src_language, dest=dest_language)\n",
        "\n",
        "    return translation.text\n",
        "\n",
        "# Example usage\n",
        "if __name__ == \"__main__\":\n",
        "    source_text = \"Water makes up around 60% of the human body. Staying hydrated is key for our organs, muscles, and even our brain to function properly!?\"\n",
        "    source_language = \"en\"  # English\n",
        "    destination_language = \"russian\"  # Spanish\n",
        "\n",
        "    translated_text = translate_text(source_text, source_language, destination_language)\n",
        "    print(f\"Original Text: {source_text}\")\n",
        "    print(f\"Translated Text: {translated_text}\")"
      ],
      "metadata": {
        "colab": {
          "base_uri": "https://localhost:8080/"
        },
        "id": "XjLSI3UWHG5D",
        "outputId": "ea2b99cc-f7a2-41d0-84d0-936e62fa5727"
      },
      "execution_count": null,
      "outputs": [
        {
          "output_type": "stream",
          "name": "stdout",
          "text": [
            "Original Text: Water makes up around 60% of the human body. Staying hydrated is key for our organs, muscles, and even our brain to function properly!?\n",
            "Translated Text: Вода составляет около 60% человеческого тела.Оставаться гидратированным является ключевым для наших органов, мышц и даже нашего мозга функционировать правильно!?\n"
          ]
        }
      ]
    },
    {
      "cell_type": "code",
      "source": [
        "from googletrans import Translator\n",
        "\n",
        "def translate_text(text, src_language, dest_language):\n",
        "    translator = Translator()\n",
        "\n",
        "    # Translate the text from source to destination language\n",
        "    translation = translator.translate(text, src=src_language, dest=dest_language)\n",
        "\n",
        "    return translation.text\n",
        "\n",
        "# Example usage\n",
        "if __name__ == \"__main__\":\n",
        "    source_text = \"Water makes up around 60% of the human body. Staying hydrated is key for our organs, muscles, and even our brain to function properly!?\"\n",
        "    source_language = \"en\"  # English\n",
        "    destination_language = \"spanish\"  # Spanish\n",
        "\n",
        "    translated_text = translate_text(source_text, source_language, destination_language)\n",
        "    print(f\"Original Text: {source_text}\")\n",
        "    print(f\"Translated Text: {translated_text}\")"
      ],
      "metadata": {
        "colab": {
          "base_uri": "https://localhost:8080/"
        },
        "id": "hvEZqoz-HZMs",
        "outputId": "f8b671f0-a260-4b32-b7db-feadc71e845d"
      },
      "execution_count": null,
      "outputs": [
        {
          "output_type": "stream",
          "name": "stdout",
          "text": [
            "Original Text: Water makes up around 60% of the human body. Staying hydrated is key for our organs, muscles, and even our brain to function properly!?\n",
            "Translated Text: El agua constituye alrededor del 60% del cuerpo humano.¿Mantenerse hidratado es clave para nuestros órganos, músculos e incluso nuestro cerebro para funcionar correctamente?\n"
          ]
        }
      ]
    },
    {
      "cell_type": "code",
      "source": [
        "from googletrans import Translator\n",
        "\n",
        "def translate_text(text, src_language, dest_language):\n",
        "    translator = Translator()\n",
        "\n",
        "    # Translate the text from source to destination language\n",
        "    translation = translator.translate(text, src=src_language, dest=dest_language)\n",
        "\n",
        "    return translation.text\n",
        "\n",
        "# Example usage\n",
        "if __name__ == \"__main__\":\n",
        "    source_text = \"Water makes up around 60% of the human body. Staying hydrated is key for our organs, muscles, and even our brain to function properly!?\"\n",
        "    source_language = \"en\"  # English\n",
        "    destination_language = \"urdu\"  # Spanish\n",
        "\n",
        "    translated_text = translate_text(source_text, source_language, destination_language)\n",
        "    print(f\"Original Text: {source_text}\")\n",
        "    print(f\"Translated Text: {translated_text}\")"
      ],
      "metadata": {
        "colab": {
          "base_uri": "https://localhost:8080/"
        },
        "id": "hyvvxitYHisL",
        "outputId": "955b15a5-89fb-42a4-c472-20c0beba33de"
      },
      "execution_count": null,
      "outputs": [
        {
          "output_type": "stream",
          "name": "stdout",
          "text": [
            "Original Text: Water makes up around 60% of the human body. Staying hydrated is key for our organs, muscles, and even our brain to function properly!?\n",
            "Translated Text: پانی انسانی جسم کا تقریبا 60 60 ٪ بناتا ہے۔ہائیڈریٹڈ رہنا ہمارے اعضاء ، پٹھوں اور یہاں تک کہ ہمارے دماغ کے لئے بھی مناسب طریقے سے کام کرنے کے لئے کلیدی حیثیت رکھتا ہے !؟\n"
          ]
        }
      ]
    },
    {
      "cell_type": "code",
      "source": [
        "from googletrans import Translator\n",
        "\n",
        "def translate_text(text, src_language, dest_language):\n",
        "    translator = Translator()\n",
        "\n",
        "    # Translate the text from source to destination language\n",
        "    translation = translator.translate(text, src=src_language, dest=dest_language)\n",
        "\n",
        "    return translation.text\n",
        "\n",
        "# Example usage\n",
        "if __name__ == \"__main__\":\n",
        "    source_text = \"Water makes up around 60% of the human body. Staying hydrated is key for our organs, muscles, and even our brain to function properly!?\"\n",
        "    source_language = \"en\"  # English\n",
        "    destination_language = \"french\"  # Spanish\n",
        "\n",
        "    translated_text = translate_text(source_text, source_language, destination_language)\n",
        "    print(f\"Original Text: {source_text}\")\n",
        "    print(f\"Translated Text: {translated_text}\")"
      ],
      "metadata": {
        "colab": {
          "base_uri": "https://localhost:8080/"
        },
        "id": "0blavt6zHx_2",
        "outputId": "3df92d40-fa1e-4377-aacf-86ed2a7f1188"
      },
      "execution_count": null,
      "outputs": [
        {
          "output_type": "stream",
          "name": "stdout",
          "text": [
            "Original Text: Water makes up around 60% of the human body. Staying hydrated is key for our organs, muscles, and even our brain to function properly!?\n",
            "Translated Text: L'eau représente environ 60% du corps humain.Rester hydraté est essentiel pour nos organes, nos muscles et même notre cerveau à fonctionner correctement !?\n"
          ]
        }
      ]
    },
    {
      "cell_type": "code",
      "source": [
        "from googletrans import Translator\n",
        "\n",
        "def translate_text(text, src_language, dest_language):\n",
        "    translator = Translator()\n",
        "\n",
        "    # Translate the text from source to destination language\n",
        "    translation = translator.translate(text, src=src_language, dest=dest_language)\n",
        "\n",
        "    return translation.text\n",
        "\n",
        "# Example usage\n",
        "if __name__ == \"__main__\":\n",
        "    source_text = \"Water makes up around 60% of the human body. Staying hydrated is key for our organs, muscles, and even our brain to function properly!?\"\n",
        "    source_language = \"en\"  # English\n",
        "    destination_language = \"portuguese\"  # Spanish\n",
        "\n",
        "    translated_text = translate_text(source_text, source_language, destination_language)\n",
        "    print(f\"Original Text: {source_text}\")\n",
        "    print(f\"Translated Text: {translated_text}\")"
      ],
      "metadata": {
        "colab": {
          "base_uri": "https://localhost:8080/"
        },
        "id": "vYrhlYQKH5T0",
        "outputId": "b11e691d-b72b-47f7-f79b-3a3fe19ca1a7"
      },
      "execution_count": null,
      "outputs": [
        {
          "output_type": "stream",
          "name": "stdout",
          "text": [
            "Original Text: Water makes up around 60% of the human body. Staying hydrated is key for our organs, muscles, and even our brain to function properly!?\n",
            "Translated Text: A água compõe cerca de 60% do corpo humano.Manter -se hidratado é fundamental para nossos órgãos, músculos e até nosso cérebro para funcionar corretamente!?\n"
          ]
        }
      ]
    }
  ]
}